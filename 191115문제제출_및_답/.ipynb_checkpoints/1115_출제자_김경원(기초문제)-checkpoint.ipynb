{
 "cells": [
  {
   "cell_type": "markdown",
   "metadata": {},
   "source": [
    "1번 \n",
    "def admission_age 사용자 정의 함수에\n",
    "*args, **kwargs를 사용하여 \n",
    "입학연령(\"8세\", \"14세\", \"17세\", \"20세\")을 각각 출력해주세요"
   ]
  },
  {
   "cell_type": "code",
   "execution_count": null,
   "metadata": {},
   "outputs": [],
   "source": [
    "#2번을 람다식으로 표현해 주세요\n",
    "#버스 시간 끝났을 때 선택 방법\n",
    "def check(money):\n",
    "    if money>=13000:\n",
    "        return '택시 타고 간다'\n",
    "    else:\n",
    "        return 'PC방에서 놀고 간다'\n",
    "\n",
    "check(11000)"
   ]
  }
 ],
 "metadata": {
  "kernelspec": {
   "display_name": "Python 3",
   "language": "python",
   "name": "python3"
  },
  "language_info": {
   "codemirror_mode": {
    "name": "ipython",
    "version": 3
   },
   "file_extension": ".py",
   "mimetype": "text/x-python",
   "name": "python",
   "nbconvert_exporter": "python",
   "pygments_lexer": "ipython3",
   "version": "3.6.9"
  }
 },
 "nbformat": 4,
 "nbformat_minor": 2
}
