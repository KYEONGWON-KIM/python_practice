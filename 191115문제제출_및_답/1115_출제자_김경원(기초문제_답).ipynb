{
 "cells": [
  {
   "cell_type": "markdown",
   "metadata": {},
   "source": [
    "def admission_age 사용자 정의 함수에<br>\n",
    "*args, **kwargs를 사용하여<br>\n",
    "입학연령(\"8세\", \"14세\", \"17세\", \"20세\")을 각각 출력해주세요"
   ]
  },
  {
   "cell_type": "code",
   "execution_count": 11,
   "metadata": {},
   "outputs": [
    {
     "name": "stdout",
     "output_type": "stream",
     "text": [
      "('8세', '14세', '17세', '20세')\n",
      "{'elementary_school': '8세', 'middle_school': '14세', 'high_school': '17세', 'university_or_college': '20세'}\n"
     ]
    }
   ],
   "source": [
    "def admission_age(*args, **kwargs):\n",
    "        print(args)\n",
    "        print(kwargs)\n",
    "        \n",
    "admission_age(\"8세\", \"14세\", \"17세\", \"20세\", elementary_school=\"8세\", middle_school=\"14세\", high_school=\"17세\", university_or_college =\"20세\" \n",
    ")"
   ]
  },
  {
   "cell_type": "code",
   "execution_count": 8,
   "metadata": {},
   "outputs": [
    {
     "data": {
      "text/plain": [
       "'PC방에서 놀고 간다'"
      ]
     },
     "execution_count": 8,
     "metadata": {},
     "output_type": "execute_result"
    }
   ],
   "source": [
    "#2번 답\n",
    "#버스 시간 끝났을때\n",
    "def check(money):\n",
    "    if money>=13000:\n",
    "        return '택시 타고 간다'\n",
    "    else:\n",
    "        return 'PC방에서 놀고 간다'\n",
    "\n",
    "check(11000)"
   ]
  },
  {
   "cell_type": "code",
   "execution_count": 6,
   "metadata": {},
   "outputs": [],
   "source": [
    "check= lambda money: '택시 타고 간다' if money>=13000 else 'PC방에서 놀고 간다'"
   ]
  },
  {
   "cell_type": "code",
   "execution_count": 7,
   "metadata": {},
   "outputs": [
    {
     "data": {
      "text/plain": [
       "'PC방에서 놀고 간다'"
      ]
     },
     "execution_count": 7,
     "metadata": {},
     "output_type": "execute_result"
    }
   ],
   "source": [
    "check(1100)"
   ]
  }
 ],
 "metadata": {
  "kernelspec": {
   "display_name": "Python 3",
   "language": "python",
   "name": "python3"
  },
  "language_info": {
   "codemirror_mode": {
    "name": "ipython",
    "version": 3
   },
   "file_extension": ".py",
   "mimetype": "text/x-python",
   "name": "python",
   "nbconvert_exporter": "python",
   "pygments_lexer": "ipython3",
   "version": "3.6.9"
  }
 },
 "nbformat": 4,
 "nbformat_minor": 2
}
