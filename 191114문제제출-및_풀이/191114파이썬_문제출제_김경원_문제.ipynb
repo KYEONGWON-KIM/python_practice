{
 "cells": [
  {
   "cell_type": "code",
   "execution_count": null,
   "metadata": {},
   "outputs": [],
   "source": [
    "##1번 기초 입니다.\n",
    "(1,0,3,10,15,28)의 갯수, 총합을 계산하기 바래요(for문, sum 사용)\n",
    "\n",
    "def calculator(*numbers):\n",
    "    count = 0\n",
    "    total = 0"
   ]
  },
  {
   "cell_type": "code",
   "execution_count": 19,
   "metadata": {},
   "outputs": [],
   "source": [
    "##2번 Nexon에 저장된 데이터의 개수를 화면에 구해볼까요?\n",
    "Nexon=[\"바람의 나라\",\"메이플스토리\",\"테일즈위버\",\"마비노기 영웅전\",\"서든어택\",\"테일즈런너\",\"피파 온라인 4\",\"프리스타일\",\"사이퍼즈\"]"
   ]
  },
  {
   "cell_type": "code",
   "execution_count": 47,
   "metadata": {},
   "outputs": [],
   "source": [
    "## 3번 list에서 대문자인 단어, 소문자인 단어를 따로 화면에 출력해볼까요?\n",
    "list = [\"APPLE\", \"strawberry\", \"grape\", \"GOOGLE\", \"acorn\"]"
   ]
  },
  {
   "cell_type": "code",
   "execution_count": null,
   "metadata": {},
   "outputs": [],
   "source": [
    "##4번 831 미만의 자연수에서 4의 배수와 6의 배수의 총합을 구해볼까요?"
   ]
  }
 ],
 "metadata": {
  "kernelspec": {
   "display_name": "Python 3",
   "language": "python",
   "name": "python3"
  },
  "language_info": {
   "codemirror_mode": {
    "name": "ipython",
    "version": 3
   },
   "file_extension": ".py",
   "mimetype": "text/x-python",
   "name": "python",
   "nbconvert_exporter": "python",
   "pygments_lexer": "ipython3",
   "version": "3.6.9"
  }
 },
 "nbformat": 4,
 "nbformat_minor": 2
}
