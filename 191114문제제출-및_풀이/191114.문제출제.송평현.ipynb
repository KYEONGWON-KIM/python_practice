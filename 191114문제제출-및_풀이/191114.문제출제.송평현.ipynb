{
 "cells": [
  {
   "cell_type": "markdown",
   "metadata": {},
   "source": [
    "### 문제1) 아래 문장에서 각각의 단어가 몇 번이나 나오는지를 계산하는 프로그램을 작성하기\n",
    "크큭... ㄴr는 to day도 ㅇㅏ름ㄷㅏ운 달을 바ㄹr보며...\n",
    "\n",
    "눈물을... 흘.린.ㄷㅏ...(한♤숨)\n",
    "\n",
    "ㅈㅓ 달은 ㄴㅏ의 고.도.쿠☆한 ㅎㅏ트를 진정ㅅlㅋㅕ주는 ㄴㅏ의 angel♡\n",
    "\n",
    "그ㄷㅐ의 뷰ㅌㅣ풀한 트윙클☆을 ㅂㅏㄹr봄에...\n",
    "\n",
    "와타시는 투ㄷㅔE도 아픈 ♡를 달랜ㄷr... "
   ]
  },
  {
   "cell_type": "code",
   "execution_count": null,
   "metadata": {},
   "outputs": [],
   "source": []
  },
  {
   "cell_type": "markdown",
   "metadata": {},
   "source": [
    "### 문제2) 이것도 처리행 유출 노노\n",
    "\t1. USB 방식\n",
    "\t\ta. 기본적으로 쓰는 방식이며 usb에 dsDefault 파일을 저장하여 STB 전면에 삽입후 부팅 시 caator.log.000의 파일이 생성되며 로그가 쌓이기 시작한다.\n",
    "\t\tb. 파일은 caator.log.000 부터 시작되며 약 1GB정도 쌓이면 caator.log.001파일을 생성해 이어서 쌓이기 시작한다.\n",
    "\t\tc. Usb 방식으로 log 캡처 중 log를 로컬 컴퓨터로 옮겨야 할 때,\n",
    "\t\t\ti. Usb mount 방식\n",
    "\t\t\t\t1) 후면에 usb를 꽂아 mount 시킨 후 log를 복사한다.\n",
    "\t\t\t\t2) fdisk -l > usb 삽입 > fdisk -l\n",
    "\t\t\t\t\ta) 새로 생긴 파티션(ex : sdb1)이 usb파티션이다.\n",
    "\t\t\t\t3) mkdir /mnt/usb2 >> humax & TCH\n",
    "\t\t\t\t4) mkdir /tmp/usb2 >> arris(파티션 권한 때문에 /mnt 폴더에 생성 불가)\n",
    "\t\t\t\t5) mount /dev/sdb1 /mnt/usb2\n",
    "\t\t\t\t6) cp /mnt/usb/cap* /mnt/usb2\n",
    "\t\t\t\t7) umount /mnt/usb2\n",
    "\t\t\t\t\n",
    "\t\t\t\t\n",
    "\t2. ODN log\n",
    "\t\ta. ODN HE 서버에 접속한다.\n",
    "\t\t\ti. HE 02 : 10.254.112.73\n",
    "\t\t\tii. HE 12 : 10.254.114.201\n",
    "\t\tb. /usr/local/mystro/scripts/ODNscripts/에 진입\n",
    "\t\tc. ./MAS_ODNBinaryLogs <ip address> 명령어 입력\n",
    "\t\t\ti. Ex : ODNBinaryLogs_mbo06.sit02_10.243.71.167_050318_1643.zip\n",
    "\t\t\tii. 파일 이름 : ODNBinaryLogs_mbo06.sit02_10.243.71.167_050318_1643.zip\n",
    "\t3. Altidump log\n",
    "\t\ta. STB에 dev 버전이 올라가 있으면 dbgcmd dump 명령어를 입력하면 되지만 prod 이미지면 아래와 같은 방식으로 약간의 로그를 캡처할 수 있다.\n",
    "\t\tb. 10.143.0.42에 접속한다.\n",
    "\t\tc. ./cmd <IP> dump를 입력한다. \n",
    "\t\t"
   ]
  },
  {
   "cell_type": "code",
   "execution_count": null,
   "metadata": {},
   "outputs": [],
   "source": []
  },
  {
   "cell_type": "markdown",
   "metadata": {},
   "source": [
    "### 문제3)\n",
    "아래 두개의 list에서 \n",
    "1을 입력시 교집합을 리턴\n",
    "2을 입력시 합집합을 리턴\n",
    "3을 입력시 여집합을 리턴\n",
    "하는 합수를 람다식으로 만드세여<br>\n",
    "A=\\{1,2,7,15,23}<br>\n",
    "B=\\{2,15,16,27}"
   ]
  },
  {
   "cell_type": "markdown",
   "metadata": {},
   "source": [
    "### 문제4) 아래 배열의 과정과 결과를 설명해여"
   ]
  },
  {
   "cell_type": "code",
   "execution_count": 15,
   "metadata": {},
   "outputs": [
    {
     "data": {
      "text/plain": [
       "['a', 'b', 'e']"
      ]
     },
     "execution_count": 15,
     "metadata": {},
     "output_type": "execute_result"
    }
   ],
   "source": [
    "test = ['a', 'b', 'c', 'd', 'e']\n",
    "test[2:4] = []\n",
    "test"
   ]
  },
  {
   "cell_type": "markdown",
   "metadata": {},
   "source": [
    "### 문제5) 아래 print 문에서 소수점 셋째 자리 까지 나오게해여\n"
   ]
  },
  {
   "cell_type": "code",
   "execution_count": 34,
   "metadata": {},
   "outputs": [
    {
     "name": "stdout",
     "output_type": "stream",
     "text": [
      "에헤라 디야 바람분다 연을 날려보자다 10.1초 만에\n"
     ]
    }
   ],
   "source": [
    "a = 10.1\n",
    "print(\"에헤라 디야 바람분다 연을 날려보자다 %a초 만에\"% a)"
   ]
  },
  {
   "cell_type": "markdown",
   "metadata": {},
   "source": [
    "### 문제 6) 아래 모든 문자가 나올 수 있게 print문을 완성하여"
   ]
  },
  {
   "cell_type": "code",
   "execution_count": 59,
   "metadata": {},
   "outputs": [
    {
     "ename": "ValueError",
     "evalue": "unsupported format character '%' (0x25) at index 2",
     "output_type": "error",
     "traceback": [
      "\u001b[0;31m---------------------------------------------------------------------------\u001b[0m",
      "\u001b[0;31mValueError\u001b[0m                                Traceback (most recent call last)",
      "\u001b[0;32m<ipython-input-59-f0eca5abf8e5>\u001b[0m in \u001b[0;36m<module>\u001b[0;34m\u001b[0m\n\u001b[1;32m      5\u001b[0m \u001b[0ms\u001b[0m \u001b[0;34m=\u001b[0m \u001b[0;34m'Hello'\u001b[0m\u001b[0;34m\u001b[0m\u001b[0;34m\u001b[0m\u001b[0m\n\u001b[1;32m      6\u001b[0m \u001b[0;34m\u001b[0m\u001b[0m\n\u001b[0;32m----> 7\u001b[0;31m \u001b[0mprint\u001b[0m\u001b[0;34m(\u001b[0m\u001b[0;34m'% % %'\u001b[0m \u001b[0;34m%\u001b[0m \u001b[0mi\u001b[0m\u001b[0;34m,\u001b[0m \u001b[0mf\u001b[0m\u001b[0;34m,\u001b[0m \u001b[0ms\u001b[0m\u001b[0;34m)\u001b[0m\u001b[0;34m\u001b[0m\u001b[0;34m\u001b[0m\u001b[0m\n\u001b[0m",
      "\u001b[0;31mValueError\u001b[0m: unsupported format character '%' (0x25) at index 2"
     ]
    }
   ],
   "source": [
    "i = 123\n",
    "\n",
    "f = 3.14\n",
    "\n",
    "s = 'Hello'\n",
    "\n",
    "print('% % %' % i, f, s)"
   ]
  }
 ],
 "metadata": {
  "kernelspec": {
   "display_name": "Python 3",
   "language": "python",
   "name": "python3"
  },
  "language_info": {
   "codemirror_mode": {
    "name": "ipython",
    "version": 3
   },
   "file_extension": ".py",
   "mimetype": "text/x-python",
   "name": "python",
   "nbconvert_exporter": "python",
   "pygments_lexer": "ipython3",
   "version": "3.7.3"
  }
 },
 "nbformat": 4,
 "nbformat_minor": 2
}
