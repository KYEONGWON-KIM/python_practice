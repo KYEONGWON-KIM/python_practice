{
 "cells": [
  {
   "cell_type": "code",
   "execution_count": null,
   "metadata": {},
   "outputs": [],
   "source": [
    "##1번 기초 입니다.\n",
    "(1,0,3,10,15,28)의 갯수, 총합을 계산하기 바래요(for문, sum 사용)\n",
    "\n",
    "def calculator(*numbers):\n",
    "    count = 0\n",
    "    total = 0"
   ]
  },
  {
   "cell_type": "code",
   "execution_count": 19,
   "metadata": {},
   "outputs": [],
   "source": [
    "##2번 Nexon에 저장된 데이터의 개수를 화면에 구해볼까요?\n",
    "Nexon=[\"바람의 나라\",\"메이플스토리\",\"테일즈위버\",\"마비노기 영웅전\",\"서든어택\",\"테일즈런너\",\"피파 온라인 4\",\"프리스타일\",\"사이퍼즈\"]"
   ]
  },
  {
   "cell_type": "code",
   "execution_count": 47,
   "metadata": {},
   "outputs": [],
   "source": [
    "## 3번 list에서 대문자인 단어, 소문자인 단어를 따로 화면에 출력해볼까요?\n",
    "list = [\"APPLE\", \"strawberry\", \"grape\", \"GOOGLE\", \"acorn\"]"
   ]
  },
  {
   "cell_type": "code",
   "execution_count": null,
   "metadata": {},
   "outputs": [],
   "source": [
    "##4번 831 미만의 자연수에서 4의 배수와 6의 배수의 총합을 구해볼까요?"
   ]
  },
  {
   "cell_type": "code",
   "execution_count": 28,
   "metadata": {},
   "outputs": [
    {
     "name": "stdout",
     "output_type": "stream",
     "text": [
      "6 57\n"
     ]
    }
   ],
   "source": [
    "#1번 답\n",
    "def calculator(*numbers):\n",
    "    count = 0\n",
    "    total = 0\n",
    "    for n in numbers:\n",
    "        count += 1\n",
    "        total += n\n",
    "    return count, total\n",
    " \n",
    "count, sum = calculator(1,0,3,10,15,28)  \n",
    "print(count, sum)"
   ]
  },
  {
   "cell_type": "code",
   "execution_count": 25,
   "metadata": {},
   "outputs": [
    {
     "name": "stdout",
     "output_type": "stream",
     "text": [
      "9\n"
     ]
    }
   ],
   "source": [
    "#2번 답\n",
    "Nexon=[\"바람의 나라\",\"메이플스토리\",\"테일즈위버\",\"마비노기 영웅전\",\"서든어택\",\"테일즈런너\",\"피파 온라인 4\",\"프리스타일\",\"사이퍼즈\"]\n",
    "#len() 함수는 문자열의 길이 뿐만 아니라 자료구조에 저장된 데이터의 개수 또한 계산 가능합니다.\n",
    "print(len(Nexon))"
   ]
  },
  {
   "cell_type": "code",
   "execution_count": 59,
   "metadata": {},
   "outputs": [
    {
     "name": "stdout",
     "output_type": "stream",
     "text": [
      "APPLE\n",
      "GOOGLE\n"
     ]
    }
   ],
   "source": [
    "#3번의 대문자\n",
    "for val in list :\n",
    "    if not val.islower() :\n",
    "        print(val)"
   ]
  },
  {
   "cell_type": "code",
   "execution_count": 60,
   "metadata": {},
   "outputs": [
    {
     "name": "stdout",
     "output_type": "stream",
     "text": [
      "strawberry\n",
      "grape\n",
      "acorn\n"
     ]
    }
   ],
   "source": [
    "#3번의 소문자\n",
    "for val in list :\n",
    "    if not val.isupper() :\n",
    "        print(val)"
   ]
  },
  {
   "cell_type": "code",
   "execution_count": 63,
   "metadata": {},
   "outputs": [
    {
     "name": "stdout",
     "output_type": "stream",
     "text": [
      "114678\n"
     ]
    }
   ],
   "source": [
    "#4번 문제의 답\n",
    "result = 0\n",
    "for n in range(1, 831):\n",
    "    if n % 4 == 0 or n % 6 == 0: \n",
    "        result += n\n",
    "print(result)"
   ]
  }
 ],
 "metadata": {
  "kernelspec": {
   "display_name": "Python 3",
   "language": "python",
   "name": "python3"
  },
  "language_info": {
   "codemirror_mode": {
    "name": "ipython",
    "version": 3
   },
   "file_extension": ".py",
   "mimetype": "text/x-python",
   "name": "python",
   "nbconvert_exporter": "python",
   "pygments_lexer": "ipython3",
   "version": "3.6.9"
  }
 },
 "nbformat": 4,
 "nbformat_minor": 2
}
